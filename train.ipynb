{
  "nbformat": 4,
  "nbformat_minor": 0,
  "metadata": {
    "colab": {
      "name": "Untitled0.ipynb",
      "version": "0.3.2",
      "provenance": [],
      "include_colab_link": true
    },
    "kernelspec": {
      "name": "python3",
      "display_name": "Python 3"
    },
    "accelerator": "TPU"
  },
  "cells": [
    {
      "cell_type": "markdown",
      "metadata": {
        "id": "view-in-github",
        "colab_type": "text"
      },
      "source": [
        "[View in Colaboratory](https://colab.research.google.com/github/farahbakhsh3/prjAutoCar/blob/master/train.ipynb)"
      ]
    },
    {
      "metadata": {
        "id": "rn4Kfjc22rvz",
        "colab_type": "code",
        "colab": {}
      },
      "cell_type": "code",
      "source": [
        "!wget https://www.dropbox.com/s/f4eebimzvxu0m47/prjAutoCar.rar\n",
        "!apt install unrar\n",
        "!unrar x -r prjAutoCar.rar\n",
        "!python3 train.py\n"
      ],
      "execution_count": 0,
      "outputs": []
    }
  ]
}