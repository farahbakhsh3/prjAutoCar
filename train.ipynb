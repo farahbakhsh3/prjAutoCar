{
  "nbformat": 4,
  "nbformat_minor": 0,
  "metadata": {
    "colab": {
      "name": "Untitled0.ipynb",
      "version": "0.3.2",
      "provenance": [],
      "toc_visible": true,
      "include_colab_link": true
    },
    "kernelspec": {
      "name": "python3",
      "display_name": "Python 3"
    },
    "accelerator": "GPU"
  },
  "cells": [
    {
      "cell_type": "markdown",
      "metadata": {
        "id": "view-in-github",
        "colab_type": "text"
      },
      "source": [
        "[View in Colaboratory](https://colab.research.google.com/github/farahbakhsh3/prjAutoCar/blob/master/train.ipynb)"
      ]
    },
    {
      "metadata": {
        "id": "rn4Kfjc22rvz",
        "colab_type": "code",
        "colab": {}
      },
      "cell_type": "code",
      "source": [
        "!wget https://www.dropbox.com/s/f4eebimzvxu0m47/prjAutoCar.rar\n",
        "!apt install unrar\n",
        "!unrar x -r prjAutoCar.rar\n",
        "!wget https://www.dropbox.com/s/w0d650x2vr2qsle/1.rar\n",
        "!printf 'A'|unrar x -r 1.rar\n",
        "!python3 train.py"
      ],
      "execution_count": 0,
      "outputs": []
    },
    {
      "metadata": {
        "id": "8M4mQSK3yaqA",
        "colab_type": "code",
        "colab": {}
      },
      "cell_type": "code",
      "source": [
        "!pip install dropbox\n",
        "\n",
        "import dropbox\n",
        "from dropbox.files import WriteMode\n",
        " \n",
        "filepath = 'AutoCar.h5'\n",
        "access_token = 'PqHDQ2OWJuYAAAAAAAAAWLZTlsb3kgWEhjrKQLeztfPalb3D9eJDueslYKgMNW7d'\n",
        "dbx = dropbox.Dropbox(access_token)\n",
        "f = open(filepath, 'rb')\n",
        "_File = '/' + filepath\n",
        "dbx.files_upload(f.read(), _File, mode=WriteMode('add'))"
      ],
      "execution_count": 0,
      "outputs": []
    },
    {
      "metadata": {
        "id": "WwSAx5bzzg_e",
        "colab_type": "code",
        "colab": {}
      },
      "cell_type": "code",
      "source": [
        ""
      ],
      "execution_count": 0,
      "outputs": []
    }
  ]
}